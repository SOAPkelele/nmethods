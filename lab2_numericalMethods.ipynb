{
 "cells": [
  {
   "cell_type": "markdown",
   "metadata": {},
   "source": [
    "## Антон Буев. 5 вариант"
   ]
  },
  {
   "cell_type": "markdown",
   "metadata": {},
   "source": [
    "## Решение нелинейных уравнений"
   ]
  },
  {
   "cell_type": "code",
   "execution_count": 1,
   "metadata": {},
   "outputs": [],
   "source": [
    "import cmath\n",
    "import numpy as np\n",
    "import pandas as pd\n",
    "from pylab import *\n",
    "from math import cos, sqrt\n",
    "from functools import partial\n",
    "from tqdm import tqdm\n",
    "\n",
    "%matplotlib inline"
   ]
  },
  {
   "cell_type": "code",
   "execution_count": 2,
   "metadata": {},
   "outputs": [],
   "source": [
    "class SignError(Exception):\n",
    "    pass"
   ]
  },
  {
   "cell_type": "code",
   "execution_count": 3,
   "metadata": {},
   "outputs": [],
   "source": [
    "class Params(dict):\n",
    "      def __init__(self, *args, **kwargs):\n",
    "            super().__init__(*args, **kwargs)"
   ]
  },
  {
   "cell_type": "markdown",
   "metadata": {},
   "source": [
    "### Задача 2.1\n",
    "### 2.1.5\n",
    "$$f(x) = (\\cos~x)^2 - (\\frac{1}{\\sqrt{2}} + \\frac{1}{4})\\cos~x + \\frac{1}{4\\sqrt{2}} = 0 $$\n",
    "$$g(x) = (\\cos~x)^2 - \\frac{2}{\\sqrt{2}}\\cos~x + \\frac{1}{2} = 0$$\n",
    "Найти все корни, содержащиеся на отрезке [a,b], с точностью $\\varepsilon = 10^{-10}$"
   ]
  },
  {
   "cell_type": "code",
   "execution_count": 4,
   "metadata": {},
   "outputs": [],
   "source": [
    "def f(x):\n",
    "    return (cos(x)) ** 2 - (1 / sqrt(2) + 1 / 4) * cos(x) + 1 / (4 * sqrt(2))\n",
    "def g(x):\n",
    "    return cos(x) ** 2 - (2 / sqrt(2)) * cos(x) + 1 / 2"
   ]
  },
  {
   "cell_type": "code",
   "execution_count": 5,
   "metadata": {},
   "outputs": [],
   "source": [
    "def bisection(epsilon, fun, left_border, right_border):\n",
    "        middle = (left_border + right_border) / 2\n",
    "        f_mid = fun(middle)\n",
    "        f_left = fun(left_border)\n",
    "        f_right = fun(right_border)\n",
    "        \n",
    "        if abs(f_left) < epsilon:\n",
    "            return left_border\n",
    "        if abs(f_right) < epsilon:\n",
    "            return right_border\n",
    "        \n",
    "        if f_left * f_right > 0:\n",
    "            raise SignError(\"Borders must be different signs\")\n",
    "        \n",
    "        def left_case():\n",
    "            return bisection(epsilon, fun, left_border, middle)\n",
    "        \n",
    "        def middle_case():\n",
    "            return middle\n",
    "        \n",
    "        def right_case():\n",
    "            return bisection(epsilon, fun, middle, right_border)\n",
    "        \n",
    "        if right_border - left_border < epsilon:\n",
    "            return middle\n",
    "        elif f_mid * f_left < 0:\n",
    "            return left_case()\n",
    "        elif abs(f_mid) < epsilon:\n",
    "            return middle_case()\n",
    "        else:\n",
    "            return right_case()"
   ]
  },
  {
   "cell_type": "code",
   "execution_count": 6,
   "metadata": {},
   "outputs": [],
   "source": [
    "def make_plot(function, boundaries):\n",
    "    space = np.linspace(*boundaries, num=10000)\n",
    "    f_values = np.array(list(map(function, space)))\n",
    "    \n",
    "    plot(space, f_values)\n",
    "    \n",
    "    axhline(y=0, color='k')\n",
    "    axvline(x=0, color='k')\n",
    "    \n",
    "    grid(True, which='both')\n",
    "    \n",
    "    idx = np.argwhere(np.diff(np.sign(f_values - np.zeros(len(f_values))))).flatten()\n",
    "    plt.plot(space[idx], f_values[idx], 'ro')"
   ]
  },
  {
   "cell_type": "markdown",
   "metadata": {},
   "source": [
    "#### Нахождений корней f(x)=0."
   ]
  },
  {
   "cell_type": "code",
   "execution_count": 7,
   "metadata": {},
   "outputs": [],
   "source": [
    "boundaries = (0, 1.5)"
   ]
  },
  {
   "cell_type": "code",
   "execution_count": 8,
   "metadata": {},
   "outputs": [
    {
     "data": {
      "image/png": "[encoded data removed]",
      "text/plain": [
       "<Figure size 432x288 with 1 Axes>"
      ]
     },
     "metadata": {
      "needs_background": "light"
     },
     "output_type": "display_data"
    }
   ],
   "source": [
    "make_plot(f, boundaries)"
   ]
  },
  {
   "cell_type": "code",
   "execution_count": 9,
   "metadata": {},
   "outputs": [
    {
     "name": "stdout",
     "output_type": "stream",
     "text": [
      "Первый корень x = 0.7853981629014015\n"
     ]
    }
   ],
   "source": [
    "print(\"Первый корень x =\", bisection(10e-10, f, 0, 1))"
   ]
  },
  {
   "cell_type": "code",
   "execution_count": 10,
   "metadata": {
    "scrolled": true
   },
   "outputs": [
    {
     "name": "stdout",
     "output_type": "stream",
     "text": [
      "Второй корень x = 1.3181160725653172\n"
     ]
    }
   ],
   "source": [
    "print(\"Второй корень x =\", bisection(10e-10, f, 1, 1.5))"
   ]
  },
  {
   "cell_type": "markdown",
   "metadata": {},
   "source": [
    "#### Нахождение корней g(x)=0."
   ]
  },
  {
   "cell_type": "code",
   "execution_count": 11,
   "metadata": {},
   "outputs": [
    {
     "data": {
      "image/png": "[encoded data removed]",
      "text/plain": [
       "<Figure size 432x288 with 1 Axes>"
      ]
     },
     "metadata": {
      "needs_background": "light"
     },
     "output_type": "display_data"
    }
   ],
   "source": [
    "make_plot(g, boundaries)"
   ]
  },
  {
   "cell_type": "code",
   "execution_count": 12,
   "metadata": {},
   "outputs": [
    {
     "data": {
      "image/png": "[encoded data removed]",
      "text/plain": [
       "<Figure size 432x288 with 1 Axes>"
      ]
     },
     "metadata": {
      "needs_background": "light"
     },
     "output_type": "display_data"
    }
   ],
   "source": [
    "make_plot(g, (0.6, 0.81))"
   ]
  },
  {
   "cell_type": "code",
   "execution_count": 13,
   "metadata": {},
   "outputs": [
    {
     "name": "stdout",
     "output_type": "stream",
     "text": [
      "Borders must be different signs\n"
     ]
    }
   ],
   "source": [
    "try:\n",
    "  bisection(10e-10, g, 0.7, 0.786)\n",
    "except Exception as e:\n",
    "  print(e)"
   ]
  },
  {
   "cell_type": "code",
   "execution_count": 14,
   "metadata": {},
   "outputs": [],
   "source": [
    "from tabulate import tabulate"
   ]
  },
  {
   "cell_type": "markdown",
   "metadata": {},
   "source": [
    "### Задача 2.6 \n",
    "### 2.6.1\n",
    "Локализовать корни уравнения $e^x - 3\\sqrt{x} =0$ с точностью $\\varepsilon = 10^{-5}$ и $\\varepsilon = 10^{-12}$, используя метод Ньютона и упрощенный метод Ньютона\n"
   ]
  },
  {
   "cell_type": "code",
   "execution_count": 15,
   "metadata": {},
   "outputs": [],
   "source": [
    "def f(x):\n",
    "    return exp(x) - 3 * sqrt(x)\n",
    "def df(x):\n",
    "    return exp(x) - 3 / (2 * sqrt(x))"
   ]
  },
  {
   "cell_type": "code",
   "execution_count": 16,
   "metadata": {
    "scrolled": true
   },
   "outputs": [
    {
     "data": {
      "image/png": "[encoded data removed]",
      "text/plain": [
       "<Figure size 432x288 with 1 Axes>"
      ]
     },
     "metadata": {
      "needs_background": "light"
     },
     "output_type": "display_data"
    }
   ],
   "source": [
    "make_plot(f, (0,2))"
   ]
  },
  {
   "cell_type": "code",
   "execution_count": 17,
   "metadata": {},
   "outputs": [],
   "source": [
    "def newton(epsilon, fun, fun_derivative, initial_guess):\n",
    "        max_iter = int(10e5)\n",
    "        guess = initial_guess\n",
    "    \n",
    "        for i in range(max_iter):\n",
    "            f_guess = fun(guess)\n",
    "            f_derivative_guess = fun_derivative(guess)\n",
    "            \n",
    "            new_guess = guess - f_guess / f_derivative_guess\n",
    "            \n",
    "            error = abs(guess - new_guess)\n",
    "            \n",
    "            if error < epsilon:\n",
    "                return new_guess, Params(iter_num=i, epsilon=epsilon, guess=initial_guess)\n",
    "            else:\n",
    "                guess = new_guess\n",
    "    "
   ]
  },
  {
   "cell_type": "code",
   "execution_count": 18,
   "metadata": {},
   "outputs": [],
   "source": [
    "def print_root_with_params(root, params):\n",
    "  print(\"Root: x = {} with params {}\".format(root, params))"
   ]
  },
  {
   "cell_type": "code",
   "execution_count": 19,
   "metadata": {},
   "outputs": [
    {
     "name": "stdout",
     "output_type": "stream",
     "text": [
      "Root: x = 0.1499775897238302 with params {'iter_num': 3, 'epsilon': 0.0001, 'guess': 0.1}\n",
      "Root: x = 1.1823747443517838 with params {'iter_num': 3, 'epsilon': 0.0001, 'guess': 1}\n",
      "Root: x = 0.1499775897238347 with params {'iter_num': 4, 'epsilon': 1e-11, 'guess': 0.1}\n",
      "Root: x = 1.1823747443240389 with params {'iter_num': 5, 'epsilon': 1e-11, 'guess': 1}\n"
     ]
    }
   ],
   "source": [
    "params = Params()  \n",
    "for eps in (10e-5, 10e-12):\n",
    "    for root in (0.1, 1): \n",
    "        new_root, params = newton(eps, f, df, root)\n",
    "        print_root_with_params(new_root, params)"
   ]
  },
  {
   "cell_type": "code",
   "execution_count": 20,
   "metadata": {},
   "outputs": [],
   "source": [
    "def newton_simplified(epsilon, fun, fun_derivative, initial_guess):\n",
    "        max_iter = int(10e5)\n",
    "        \n",
    "        guess = initial_guess\n",
    "        f_derivative_guess = fun_derivative(guess)\n",
    "        \n",
    "        for i in range(max_iter):\n",
    "            f_guess = fun(guess)\n",
    "            \n",
    "            new_guess = guess - f_guess / f_derivative_guess\n",
    "            \n",
    "            error = abs(guess - new_guess)\n",
    "            \n",
    "            if error < epsilon:\n",
    "                return new_guess, Params(iter_num=i, epsilon=epsilon, guess=initial_guess)\n",
    "            else:\n",
    "                guess = new_guess"
   ]
  },
  {
   "cell_type": "code",
   "execution_count": 21,
   "metadata": {},
   "outputs": [
    {
     "name": "stdout",
     "output_type": "stream",
     "text": [
      "Root: x = 0.14995031058889846 with params {'iter_num': 4, 'epsilon': 0.0001, 'guess': 0.1}\n",
      "Root: x = 1.182355013560296 with params {'iter_num': 13, 'epsilon': 0.0001, 'guess': 1}\n",
      "Root: x = 0.14997758972179892 with params {'iter_num': 16, 'epsilon': 1e-11, 'guess': 0.1}\n",
      "Root: x = 1.1823747443212327 with params {'iter_num': 39, 'epsilon': 1e-11, 'guess': 1}\n"
     ]
    }
   ],
   "source": [
    "params = Params()  \n",
    "for eps in (10e-5, 10e-12):\n",
    "    for root in (0.1, 1): \n",
    "        new_root, params = newton_simplified(eps, f, df, root)\n",
    "        print_root_with_params(new_root, params)"
   ]
  },
  {
   "cell_type": "markdown",
   "metadata": {},
   "source": [
    "$$x_1 \\approx 0.1500, x_2 \\approx 1.1824$$"
   ]
  },
  {
   "cell_type": "markdown",
   "metadata": {},
   "source": [
    "### Задача 2.9\n",
    "### 2.9.2\n",
    "Локализовать корни уравнения $3x^3 - 35x^2 +125x -125 = 0$ с точностью $\\varepsilon = 10^{-7}$, используя метод Ньютона. Для поиска кратного корня и определения его кратности следует использовать модификацию метода Ньютона для случая кратного корня с $m = 1,2,3$"
   ]
  },
  {
   "cell_type": "code",
   "execution_count": 22,
   "metadata": {},
   "outputs": [],
   "source": [
    "def f(x):\n",
    "    return 3 * x ** 3 - 35 * x ** 2 + 125 * x - 125\n",
    "def df(x):\n",
    "    return 9 * x ** 2 - 70 * x + 125"
   ]
  },
  {
   "cell_type": "code",
   "execution_count": 23,
   "metadata": {},
   "outputs": [
    {
     "data": {
      "image/png": "[encoded data removed]",
      "text/plain": [
       "<Figure size 432x288 with 1 Axes>"
      ]
     },
     "metadata": {
      "needs_background": "light"
     },
     "output_type": "display_data"
    }
   ],
   "source": [
    "make_plot(f, (-5, 15))"
   ]
  },
  {
   "cell_type": "code",
   "execution_count": 24,
   "metadata": {},
   "outputs": [
    {
     "data": {
      "image/png": "[encoded data removed]",
      "text/plain": [
       "<Figure size 432x288 with 1 Axes>"
      ]
     },
     "metadata": {
      "needs_background": "light"
     },
     "output_type": "display_data"
    }
   ],
   "source": [
    "make_plot(f, (1, 5.5))"
   ]
  },
  {
   "cell_type": "code",
   "execution_count": 25,
   "metadata": {},
   "outputs": [],
   "source": [
    "eps = 10e-7"
   ]
  },
  {
   "cell_type": "markdown",
   "metadata": {},
   "source": [
    "Первый корень"
   ]
  },
  {
   "cell_type": "code",
   "execution_count": 26,
   "metadata": {},
   "outputs": [
    {
     "name": "stdout",
     "output_type": "stream",
     "text": [
      "Root: x = 1.6666663779075301 with params {'iter_num': 24, 'epsilon': 1e-06, 'guess': 2}\n"
     ]
    }
   ],
   "source": [
    "new_root, params = newton_simplified(eps, f, df, 2)\n",
    "print_root_with_params(new_root, params)"
   ]
  },
  {
   "cell_type": "markdown",
   "metadata": {},
   "source": [
    "Второй корень"
   ]
  },
  {
   "cell_type": "code",
   "execution_count": 27,
   "metadata": {},
   "outputs": [
    {
     "name": "stdout",
     "output_type": "stream",
     "text": [
      "Root: x = 4.998952412863392 with params {'iter_num': 1043, 'epsilon': 1e-06, 'guess': 4}\n"
     ]
    }
   ],
   "source": [
    "new_root, params = newton_simplified(eps, f, df, 4)\n",
    "print_root_with_params(new_root, params)"
   ]
  },
  {
   "cell_type": "markdown",
   "metadata": {},
   "source": [
    "Итого: $x_1 \\approx 1.667, x_2 \\approx 4.9989$"
   ]
  },
  {
   "cell_type": "markdown",
   "metadata": {},
   "source": [
    "Метод Ньютона для случая кратного корня"
   ]
  },
  {
   "cell_type": "code",
   "execution_count": 28,
   "metadata": {},
   "outputs": [],
   "source": [
    "def newton_multiple_roots(epsilon, m, fun, fun_derivative, initial_guess):\n",
    "        def find_m_root(m, _guess):\n",
    "            max_iter = int(10e5)\n",
    "            for i in range(max_iter):\n",
    "                f_guess = fun(_guess)\n",
    "                f_derivative_guess = fun_derivative(_guess)\n",
    "                \n",
    "                new_guess = _guess - m * f_guess / f_derivative_guess\n",
    "                \n",
    "                error = abs(_guess - new_guess)\n",
    "                \n",
    "                if error < epsilon:\n",
    "                    return new_guess, Params(iter_num=i, epsilon=epsilon, guess=initial_guess, m=m)\n",
    "                else:\n",
    "                    _guess = new_guess\n",
    "                    \n",
    "        return list(map(partial(find_m_root, _guess=initial_guess), range(1, m + 1)))\n",
    "   "
   ]
  },
  {
   "cell_type": "code",
   "execution_count": 29,
   "metadata": {},
   "outputs": [
    {
     "name": "stdout",
     "output_type": "stream",
     "text": [
      "[(1.6666666666666667, {'iter_num': 5, 'epsilon': 1e-10, 'guess': 2.0, 'm': 1}), None, (4.99999997528018, {'iter_num': 29, 'epsilon': 1e-10, 'guess': 2.0, 'm': 3})]\n",
      "[(1.6666666666666667, {'iter_num': 5, 'epsilon': 1e-10, 'guess': 2.2222222222222223, 'm': 1}), None, (5.000000043570666, {'iter_num': 35, 'epsilon': 1e-10, 'guess': 2.2222222222222223, 'm': 3})]\n",
      "[(1.6666666666666667, {'iter_num': 6, 'epsilon': 1e-10, 'guess': 2.4444444444444446, 'm': 1}), None, (5.000000029254818, {'iter_num': 27, 'epsilon': 1e-10, 'guess': 2.4444444444444446, 'm': 3})]\n",
      "[(1.6666666666666667, {'iter_num': 9, 'epsilon': 1e-10, 'guess': 2.6666666666666665, 'm': 1}), None, (5.000000063437742, {'iter_num': 27, 'epsilon': 1e-10, 'guess': 2.6666666666666665, 'm': 3})]\n",
      "[(5.000000095310989, {'iter_num': 28, 'epsilon': 1e-10, 'guess': 2.888888888888889, 'm': 1}), (4.999999944568014, {'iter_num': 7, 'epsilon': 1e-10, 'guess': 2.888888888888889, 'm': 2}), (4.999999951277051, {'iter_num': 35, 'epsilon': 1e-10, 'guess': 2.888888888888889, 'm': 3})]\n",
      "[(5.000000010132414, {'iter_num': 29, 'epsilon': 1e-10, 'guess': 3.111111111111111, 'm': 1}), (5.000000045177523, {'iter_num': 7, 'epsilon': 1e-10, 'guess': 3.111111111111111, 'm': 2}), (5.000000026011618, {'iter_num': 28, 'epsilon': 1e-10, 'guess': 3.111111111111111, 'm': 3})]\n",
      "[(4.999999931794956, {'iter_num': 25, 'epsilon': 1e-10, 'guess': 3.333333333333333, 'm': 1}), (5.000000000180241, {'iter_num': 5, 'epsilon': 1e-10, 'guess': 3.333333333333333, 'm': 2}), (5.00000008479465, {'iter_num': 42, 'epsilon': 1e-10, 'guess': 3.333333333333333, 'm': 3})]\n",
      "[(4.9999999117587, {'iter_num': 23, 'epsilon': 1e-10, 'guess': 3.5555555555555554, 'm': 1}), (4.999999988115549, {'iter_num': 9, 'epsilon': 1e-10, 'guess': 3.5555555555555554, 'm': 2}), (4.999999917868163, {'iter_num': 26, 'epsilon': 1e-10, 'guess': 3.5555555555555554, 'm': 3})]\n",
      "[(4.999999975654828, {'iter_num': 24, 'epsilon': 1e-10, 'guess': 3.7777777777777777, 'm': 1}), (5.000000002794513, {'iter_num': 4, 'epsilon': 1e-10, 'guess': 3.7777777777777777, 'm': 2}), (5.000000095779255, {'iter_num': 30, 'epsilon': 1e-10, 'guess': 3.7777777777777777, 'm': 3})]\n",
      "[(5.000000049443311, {'iter_num': 26, 'epsilon': 1e-10, 'guess': 4.0, 'm': 1}), (5.000000000913548, {'iter_num': 10, 'epsilon': 1e-10, 'guess': 4.0, 'm': 2}), (4.999999896098758, {'iter_num': 27, 'epsilon': 1e-10, 'guess': 4.0, 'm': 3})]\n"
     ]
    }
   ],
   "source": [
    "for guess in np.linspace(2, 4, 10):\n",
    "        roots = newton_multiple_roots(1e-10, 3, f, df, guess)\n",
    "        roots = list(map(lambda x: x if x is not None else None, roots))\n",
    "#         print(\"For m = {} roots are {}:\".format(3, roots))\n",
    "        print(roots)\n",
    "        "
   ]
  },
  {
   "cell_type": "markdown",
   "metadata": {},
   "source": [
    "#### Рассмотреть уравнение $f(x) + \\delta = 0$, где $\\delta = 10^{-8}$. Найти корень кратности 1"
   ]
  },
  {
   "cell_type": "code",
   "execution_count": 30,
   "metadata": {},
   "outputs": [],
   "source": [
    "def deltaf(x):\n",
    "    return f(x) + 10e-8"
   ]
  },
  {
   "cell_type": "code",
   "execution_count": 31,
   "metadata": {},
   "outputs": [
    {
     "data": {
      "text/plain": [
       "[(1.6666666636666667, {'iter_num': 4, 'epsilon': 1e-05, 'guess': 2, 'm': 1}),\n",
       " None,\n",
       " None]"
      ]
     },
     "execution_count": 31,
     "metadata": {},
     "output_type": "execute_result"
    }
   ],
   "source": [
    "newton_multiple_roots(1e-5, 3, deltaf, df, 2)"
   ]
  },
  {
   "cell_type": "code",
   "execution_count": 32,
   "metadata": {},
   "outputs": [
    {
     "data": {
      "text/plain": [
       "[None, None, None]"
      ]
     },
     "execution_count": 32,
     "metadata": {},
     "output_type": "execute_result"
    }
   ],
   "source": [
    "newton_multiple_roots(1e-5, 3, deltaf, f, 4.5)"
   ]
  },
  {
   "cell_type": "code",
   "execution_count": 33,
   "metadata": {},
   "outputs": [
    {
     "data": {
      "text/plain": [
       "[((4.99999972396839+0.00010020214063797883j),\n",
       "  {'iter_num': 13, 'epsilon': 1e-05, 'guess': (5+0.5j), 'm': 1}),\n",
       " None,\n",
       " None]"
      ]
     },
     "execution_count": 33,
     "metadata": {},
     "output_type": "execute_result"
    }
   ],
   "source": [
    "newton_multiple_roots(1e-5, 3, deltaf, df, 5 + 0.5j)"
   ]
  },
  {
   "cell_type": "code",
   "execution_count": 34,
   "metadata": {},
   "outputs": [
    {
     "data": {
      "text/plain": [
       "[((4.99999972396839-0.00010020214063797883j),\n",
       "  {'iter_num': 13, 'epsilon': 1e-05, 'guess': (5-0.5j), 'm': 1}),\n",
       " None,\n",
       " None]"
      ]
     },
     "execution_count": 34,
     "metadata": {},
     "output_type": "execute_result"
    }
   ],
   "source": [
    "newton_multiple_roots(1e-5, 3, deltaf, df, 5 - 0.5j)"
   ]
  }
 ],
 "metadata": {
  "kernelspec": {
   "display_name": "Python 3",
   "language": "python",
   "name": "python3"
  },
  "language_info": {
   "codemirror_mode": {
    "name": "ipython",
    "version": 3
   },
   "file_extension": ".py",
   "mimetype": "text/x-python",
   "name": "python",
   "nbconvert_exporter": "python",
   "pygments_lexer": "ipython3",
   "version": "3.7.4"
  }
 },
 "nbformat": 4,
 "nbformat_minor": 2
}
