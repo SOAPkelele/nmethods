{
  "nbformat": 4,
  "nbformat_minor": 0,
  "metadata": {
    "colab": {
      "name": "root_localizing.ipynb",
      "provenance": []
    },
    "kernelspec": {
      "name": "python3",
      "display_name": "Python 3"
    }
  },
  "cells": [
    {
      "cell_type": "markdown",
      "metadata": {
        "id": "ZUp_db0VM0gm",
        "colab_type": "text"
      },
      "source": [
        "## Numerical Methods.\n",
        "\n",
        "### Non-linear equations solution."
      ]
    },
    {
      "cell_type": "markdown",
      "metadata": {
        "id": "AAbgxHMmM0gn",
        "colab_type": "text"
      },
      "source": [
        "### General task is solution non-linear equation with given signature: \n",
        "\n",
        "$ f(x) = 0 $"
      ]
    },
    {
      "cell_type": "code",
      "metadata": {
        "id": "DSX162E4M0go",
        "colab_type": "code",
        "colab": {}
      },
      "source": [
        "import cmath\n",
        "import numpy as np\n",
        "import pandas as pd\n",
        "from pylab import *\n",
        "from math import cos, sqrt\n",
        "from functools import partial\n",
        "from tqdm import tqdm\n",
        "\n",
        "%matplotlib inline\n"
      ],
      "execution_count": 0,
      "outputs": []
    },
    {
      "cell_type": "code",
      "metadata": {
        "id": "P6y04YOxM0gr",
        "colab_type": "code",
        "colab": {}
      },
      "source": [
        "class SignError(Exception):\n",
        "    pass\n"
      ],
      "execution_count": 0,
      "outputs": []
    },
    {
      "cell_type": "code",
      "metadata": {
        "id": "E4VA4ha8ZsYb",
        "colab_type": "code",
        "colab": {}
      },
      "source": [
        "class Params(dict):\n",
        "  def __init__(self, *args, **kwargs):\n",
        "    super().__init__(*args, **kwargs)"
      ],
      "execution_count": 0,
      "outputs": []
    },
    {
      "cell_type": "code",
      "metadata": {
        "id": "rGjJnPaqM0gu",
        "colab_type": "code",
        "colab": {}
      },
      "source": [
        "class Optimizer:\n",
        "    \n",
        "    max_iter = int(10e5)\n",
        "    \n",
        "    @staticmethod\n",
        "    def bisection(epsilon, fun, left_border, right_border):\n",
        "        middle = (left_border + right_border) / 2\n",
        "        f_mid = fun(middle)\n",
        "        f_left = fun(left_border)\n",
        "        f_right = fun(right_border)\n",
        "        \n",
        "        if abs(f_left) < epsilon:\n",
        "            return left_border\n",
        "        if abs(f_right) < epsilon:\n",
        "            return right_border\n",
        "        \n",
        "        if f_left * f_right > 0:\n",
        "            raise SignError(\"Borders must be different signs\")\n",
        "        \n",
        "        def left_case():\n",
        "            return Optimizer.bisection(epsilon, fun, left_border, middle)\n",
        "        \n",
        "        def middle_case():\n",
        "            return middle\n",
        "        \n",
        "        def right_case():\n",
        "            return Optimizer.bisection(epsilon, fun, middle, right_border)\n",
        "        \n",
        "        if right_border - left_border < epsilon:\n",
        "            return middle\n",
        "        elif f_mid * f_left < 0:\n",
        "            return left_case()\n",
        "        elif abs(f_mid) < epsilon:\n",
        "            return middle_case()\n",
        "        else:\n",
        "            return right_case()\n",
        "        \n",
        "    @staticmethod\n",
        "    def bisection_localize(epsilon, fun, left_border, right_border):\n",
        "        middle = (left_border + right_border) / 2\n",
        "        f_mid = fun(middle)\n",
        "        f_left = fun(left_border)\n",
        "        f_right = fun(right_border)\n",
        "        \n",
        "        if abs(f_left) < epsilon:\n",
        "            return left_border, right_border\n",
        "        if abs(f_right) < epsilon:\n",
        "            return right_border, right_border\n",
        "        \n",
        "        if f_left * f_right > 0:\n",
        "            raise SignError(\"Borders must be different signs\")\n",
        "        \n",
        "        def left_case():\n",
        "            return Optimizer.bisection_localize(epsilon, fun, left_border, middle)\n",
        "        \n",
        "        def middle_case():\n",
        "            return left_border, right_border\n",
        "        \n",
        "        def right_case():\n",
        "            return Optimizer.bisection_localize(epsilon, fun, middle, right_border)\n",
        "        \n",
        "        if right_border - left_border < epsilon:\n",
        "            return left_border, right_border\n",
        "        elif f_mid * f_left < 0:\n",
        "            return left_case()\n",
        "        elif abs(f_mid) < epsilon:\n",
        "            return middle_case()\n",
        "        else:\n",
        "            return right_case()\n",
        "        \n",
        "    @staticmethod\n",
        "    def newton(epsilon, fun, fun_derivative, initial_guess):\n",
        "      \n",
        "        guess = initial_guess\n",
        "    \n",
        "        for i in range(Optimizer.max_iter):\n",
        "            f_guess = fun(guess)\n",
        "            f_derivative_guess = fun_derivative(guess)\n",
        "            \n",
        "            new_guess = guess - f_guess / f_derivative_guess\n",
        "            \n",
        "            error = abs(guess - new_guess)\n",
        "            \n",
        "            if error < epsilon:\n",
        "                return new_guess, Params(iter_num=i, epsilon=epsilon, guess=initial_guess)\n",
        "            else:\n",
        "                guess = new_guess\n",
        "    \n",
        "    @staticmethod\n",
        "    def newton_simplified(epsilon, fun, fun_derivative, initial_guess):\n",
        "        \n",
        "        guess = initial_guess\n",
        "        f_derivative_guess = fun_derivative(guess)\n",
        "        \n",
        "        for i in range(Optimizer.max_iter):\n",
        "            f_guess = fun(guess)\n",
        "            \n",
        "            new_guess = guess - f_guess / f_derivative_guess\n",
        "            \n",
        "            error = abs(guess - new_guess)\n",
        "            \n",
        "            if error < epsilon:\n",
        "                return new_guess, Params(iter_num=i, epsilon=epsilon, guess=initial_guess)\n",
        "            else:\n",
        "                guess = new_guess\n",
        "    \n",
        "    @staticmethod\n",
        "    def newton_multiple_roots(epsilon, m, fun, fun_derivative, initial_guess):\n",
        "        \n",
        "        def find_m_root(m, _guess):\n",
        "            \n",
        "            for i in range(Optimizer.max_iter):\n",
        "                f_guess = fun(_guess)\n",
        "                f_derivative_guess = fun_derivative(_guess)\n",
        "                \n",
        "                new_guess = _guess - m * f_guess / f_derivative_guess\n",
        "                \n",
        "                error = abs(_guess - new_guess)\n",
        "                \n",
        "                if error < epsilon:\n",
        "                    return new_guess, Params(iter_num=i, epsilon=epsilon, guess=initial_guess, m=m)\n",
        "                else:\n",
        "                    _guess = new_guess\n",
        "                    \n",
        "        return list(map(partial(find_m_root, _guess=initial_guess), range(1, m + 1)))\n",
        "   \n"
      ],
      "execution_count": 0,
      "outputs": []
    },
    {
      "cell_type": "code",
      "metadata": {
        "id": "sfvgZa35iq5V",
        "colab_type": "code",
        "colab": {}
      },
      "source": [
        "def print_root_with_params(root, params):\n",
        "  print(\"Root: x = {} with params {}\".format(root, params))"
      ],
      "execution_count": 0,
      "outputs": []
    },
    {
      "cell_type": "code",
      "metadata": {
        "id": "8UWxYH0GM0gw",
        "colab_type": "code",
        "colab": {}
      },
      "source": [
        "def build_plot(fun, boundaries):\n",
        "    space = np.linspace(*boundaries, num=10000)\n",
        "    f_values = np.array(list(map(fun, space)))\n",
        "    \n",
        "    plot(space, f_values)\n",
        "    \n",
        "    axhline(y=0, color='k')\n",
        "    axvline(x=0, color='k')\n",
        "    \n",
        "    grid(True, which='both')\n",
        "    \n",
        "    idx = np.argwhere(np.diff(np.sign(f_values - np.zeros(len(f_values))))).flatten()\n",
        "    plt.plot(space[idx], f_values[idx], 'ro')\n"
      ],
      "execution_count": 0,
      "outputs": []
    },
    {
      "cell_type": "markdown",
      "metadata": {
        "id": "Eq3j62VGM0gz",
        "colab_type": "text"
      },
      "source": [
        "### Task 1"
      ]
    },
    {
      "cell_type": "markdown",
      "metadata": {
        "id": "9mW94GODNNQR",
        "colab_type": "text"
      },
      "source": [
        "For given equations \n",
        "\n",
        "$  f(x)  = cos(x) ^ 2 - (\\frac {1} {\\sqrt 2} + \\frac 1 4)  cos(x) + \\frac 1 {4  \\sqrt 2} = 0 $\n",
        "\n",
        "$  g(x)  = cos(x) ^ 2 - \\frac {2} {\\sqrt 2}  cos(x) + \\frac 1 2 = 0 $\n",
        "\n",
        "find all roots with  $ \\varepsilon = 10 ^ {(-10)} $ using bisection method"
      ]
    },
    {
      "cell_type": "code",
      "metadata": {
        "id": "ov_l2xTrM0g0",
        "colab_type": "code",
        "colab": {}
      },
      "source": [
        "class Task1:\n",
        "    \n",
        "    @staticmethod\n",
        "    def first_function(x):\n",
        "        return (cos(x)) ** 2 - (1 / sqrt(2) + 1 / 4) * cos(x) + 1 / (4 * sqrt(2))\n",
        "    \n",
        "    @staticmethod\n",
        "    def second_function(x):\n",
        "        return cos(x) ** 2 - (2 / sqrt(2)) * cos(x) + 1 / 2\n",
        "    \n",
        "    @staticmethod\n",
        "    def second_function_derivative(x):\n",
        "        return (1 / 4 + 1 / sqrt(2)) * sin(x) - sin(2 * x)\n",
        "    \n",
        "    boundaries = (0, 1.5)\n"
      ],
      "execution_count": 0,
      "outputs": []
    },
    {
      "cell_type": "markdown",
      "metadata": {
        "id": "xk40l3k6M0g3",
        "colab_type": "text"
      },
      "source": [
        "#### Find roots of first function"
      ]
    },
    {
      "cell_type": "code",
      "metadata": {
        "id": "G9-qYqYqM0g3",
        "colab_type": "code",
        "outputId": "d0e8b74d-fd2f-4c44-e51e-d018f9acd85e",
        "colab": {
          "base_uri": "https://localhost:8080/",
          "height": 285
        }
      },
      "source": [
        "build_plot(Task1.first_function, Task1.boundaries)\n"
      ],
      "execution_count": 0,
      "outputs": [
        {
          "output_type": "display_data",
          "data": {
            "image/png": "[encoded data removed]",
            "text/plain": [
              "<Figure size 432x288 with 1 Axes>"
            ]
          },
          "metadata": {
            "tags": []
          }
        }
      ]
    },
    {
      "cell_type": "code",
      "metadata": {
        "id": "kJl-ddW4M0g8",
        "colab_type": "code",
        "outputId": "99a079be-8c02-4b2c-e207-5611a462bc1f",
        "colab": {
          "base_uri": "https://localhost:8080/",
          "height": 54
        }
      },
      "source": [
        "print(\"First root: x =\", Optimizer.bisection(10e-10, Task1.first_function, 0, 1))"
      ],
      "execution_count": 0,
      "outputs": [
        {
          "output_type": "stream",
          "text": [
            "First root: x = 0.7853981629014015\n"
          ],
          "name": "stdout"
        }
      ]
    },
    {
      "cell_type": "code",
      "metadata": {
        "id": "q7iBtpXdM0hA",
        "colab_type": "code",
        "outputId": "c59f7bd6-f76b-4770-a890-6235731b723a",
        "colab": {
          "base_uri": "https://localhost:8080/",
          "height": 54
        }
      },
      "source": [
        "print(\"Second root: x =\", Optimizer.bisection(10e-10, Task1.first_function, 1, 1.5))"
      ],
      "execution_count": 0,
      "outputs": [
        {
          "output_type": "stream",
          "text": [
            "Second root: x = 1.3181160725653172\n"
          ],
          "name": "stdout"
        }
      ]
    },
    {
      "cell_type": "markdown",
      "metadata": {
        "id": "KV_J6gJN7sB3",
        "colab_type": "text"
      },
      "source": [
        "$ x_1 \\approx \\ 0.7845, x_2 \\approx 1.3181 $"
      ]
    },
    {
      "cell_type": "markdown",
      "metadata": {
        "id": "R3HBiG8SM0hD",
        "colab_type": "text"
      },
      "source": [
        "#### Finding roots of second function"
      ]
    },
    {
      "cell_type": "code",
      "metadata": {
        "id": "YL9PMpqOM0hE",
        "colab_type": "code",
        "outputId": "500f886b-1754-430a-8dc0-6bec8437722b",
        "colab": {
          "base_uri": "https://localhost:8080/",
          "height": 285
        }
      },
      "source": [
        "build_plot(Task1.second_function, Task1.boundaries)\n"
      ],
      "execution_count": 0,
      "outputs": [
        {
          "output_type": "display_data",
          "data": {
            "image/png": "[encoded data removed]",
            "text/plain": [
              "<Figure size 432x288 with 1 Axes>"
            ]
          },
          "metadata": {
            "tags": []
          }
        }
      ]
    },
    {
      "cell_type": "code",
      "metadata": {
        "id": "aNX6MY1UWMaK",
        "colab_type": "code",
        "outputId": "4135dbbd-966e-4529-9a26-c55c6fcd731e",
        "colab": {
          "base_uri": "https://localhost:8080/",
          "height": 285
        }
      },
      "source": [
        "build_plot(Task1.second_function, (0.75, 0.85))"
      ],
      "execution_count": 0,
      "outputs": [
        {
          "output_type": "display_data",
          "data": {
            "image/png": "[encoded data removed]",
            "text/plain": [
              "<Figure size 432x288 with 1 Axes>"
            ]
          },
          "metadata": {
            "tags": []
          }
        }
      ]
    },
    {
      "cell_type": "code",
      "metadata": {
        "id": "-9fkJ-NyM0hH",
        "colab_type": "code",
        "outputId": "58923099-2825-473b-9079-2b8521833ad6",
        "colab": {
          "base_uri": "https://localhost:8080/",
          "height": 54
        }
      },
      "source": [
        "try:\n",
        "  Optimizer.bisection(10e-10, Task1.second_function, 0.7, 0.786)\n",
        "except Exception as e:\n",
        "  print(e)"
      ],
      "execution_count": 0,
      "outputs": [
        {
          "output_type": "stream",
          "text": [
            "Borders must be different signs\n"
          ],
          "name": "stdout"
        }
      ]
    },
    {
      "cell_type": "markdown",
      "metadata": {
        "id": "vixYQLCNM0hL",
        "colab_type": "text"
      },
      "source": [
        "From the plot we can observe that our root is in local minimum os given function. \n",
        "\n",
        "As the result, bisection method will not converge.\n",
        "\n",
        "However, we can find root with different methods."
      ]
    },
    {
      "cell_type": "code",
      "metadata": {
        "id": "0vB9hCcgM0hM",
        "colab_type": "code",
        "outputId": "9ff2bb19-789b-4243-9465-a0f1ff29ada4",
        "colab": {
          "base_uri": "https://localhost:8080/",
          "height": 54
        }
      },
      "source": [
        "print(\"Root: x =\", Optimizer.newton(10e-10, Task1.second_function, Task1.second_function_derivative, 0.5)[0])"
      ],
      "execution_count": 0,
      "outputs": [
        {
          "output_type": "stream",
          "text": [
            "Root: x = 0.785372739044352\n"
          ],
          "name": "stdout"
        }
      ]
    },
    {
      "cell_type": "markdown",
      "metadata": {
        "id": "Vo90HB9c8lAH",
        "colab_type": "text"
      },
      "source": [
        "$ x\\approx 0.7854 $"
      ]
    },
    {
      "cell_type": "markdown",
      "metadata": {
        "id": "dmHCcsssM0hP",
        "colab_type": "text"
      },
      "source": [
        "### Task 2"
      ]
    },
    {
      "cell_type": "markdown",
      "metadata": {
        "id": "EWme97zBXnC6",
        "colab_type": "text"
      },
      "source": [
        "Localize roots of given equation: $ f(x)  = e ^ x - 3 \\sqrt x = 0$\n",
        "\n",
        "Find roots with precision $ \\varepsilon = 10 ^ {(-5)} $ and $ \\varepsilon = 10 ^ {(-12)} $ using Newton's method and Simplified Newton's method.\n",
        "\n",
        "Compare convergence speed for each $ \\varepsilon $\n"
      ]
    },
    {
      "cell_type": "code",
      "metadata": {
        "id": "lqWYNAD3M0hQ",
        "colab_type": "code",
        "colab": {}
      },
      "source": [
        "class Task2:\n",
        "    @staticmethod\n",
        "    def function(x):\n",
        "        return exp(x) - 3 * sqrt(x)\n",
        "    \n",
        "    @staticmethod\n",
        "    def function_derivative(x):\n",
        "        return exp(x) - 3 / (2 * sqrt(x))\n"
      ],
      "execution_count": 0,
      "outputs": []
    },
    {
      "cell_type": "code",
      "metadata": {
        "id": "EMAwTtnkM0hS",
        "colab_type": "code",
        "outputId": "203c3488-213c-42c2-f747-85498fb51fc8",
        "colab": {
          "base_uri": "https://localhost:8080/",
          "height": 285
        }
      },
      "source": [
        "build_plot(Task2.function, (0, 2))\n"
      ],
      "execution_count": 0,
      "outputs": [
        {
          "output_type": "display_data",
          "data": {
            "image/png": "[encoded data removed]",
            "text/plain": [
              "<Figure size 432x288 with 1 Axes>"
            ]
          },
          "metadata": {
            "tags": []
          }
        }
      ]
    },
    {
      "cell_type": "code",
      "metadata": {
        "id": "dfKu9FWeM0hX",
        "colab_type": "code",
        "outputId": "c012d9bb-1e8d-4a28-d645-3730acbda86b",
        "colab": {
          "base_uri": "https://localhost:8080/",
          "height": 88
        }
      },
      "source": [
        "print_root_with_params(*Optimizer.newton(10e-5, Task2.function, Task2.function_derivative, 1))\n",
        "\n",
        "%timeit Optimizer.newton(10e-5, Task2.function, Task2.function_derivative, 1)"
      ],
      "execution_count": 0,
      "outputs": [
        {
          "output_type": "stream",
          "text": [
            "Root: x = 1.1823747443517838 with params {'iter_num': 3, 'epsilon': 0.0001, 'guess': 1}\n",
            "The slowest run took 6.12 times longer than the fastest. This could mean that an intermediate result is being cached.\n",
            "100000 loops, best of 3: 17.9 µs per loop\n"
          ],
          "name": "stdout"
        }
      ]
    },
    {
      "cell_type": "code",
      "metadata": {
        "id": "LcBA-9RYM0hb",
        "colab_type": "code",
        "outputId": "145e1e0e-11c4-47e7-ada2-d070125c3eaa",
        "colab": {
          "base_uri": "https://localhost:8080/",
          "height": 88
        }
      },
      "source": [
        "print_root_with_params(*Optimizer.newton(10e-5, Task2.function, Task2.function_derivative, 0.1))\n",
        "\n",
        "%timeit Optimizer.newton(10e-5, Task2.function, Task2.function_derivative, 0.1)"
      ],
      "execution_count": 0,
      "outputs": [
        {
          "output_type": "stream",
          "text": [
            "Root: x = 0.1499775897238302 with params {'iter_num': 3, 'epsilon': 0.0001, 'guess': 0.1}\n",
            "The slowest run took 6.00 times longer than the fastest. This could mean that an intermediate result is being cached.\n",
            "100000 loops, best of 3: 17.2 µs per loop\n"
          ],
          "name": "stdout"
        }
      ]
    },
    {
      "cell_type": "code",
      "metadata": {
        "id": "NpTfFge6M0he",
        "colab_type": "code",
        "outputId": "a69c9046-fa3a-4c6e-c565-f0248e27be71",
        "colab": {
          "base_uri": "https://localhost:8080/",
          "height": 88
        }
      },
      "source": [
        "print_root_with_params(*Optimizer.newton(10e-12, Task2.function, Task2.function_derivative, 1))\n",
        "\n",
        "%timeit Optimizer.newton(10e-12, Task2.function, Task2.function_derivative, 1)"
      ],
      "execution_count": 0,
      "outputs": [
        {
          "output_type": "stream",
          "text": [
            "Root: x = 1.1823747443240389 with params {'iter_num': 5, 'epsilon': 1e-11, 'guess': 1}\n",
            "The slowest run took 4.23 times longer than the fastest. This could mean that an intermediate result is being cached.\n",
            "10000 loops, best of 3: 25 µs per loop\n"
          ],
          "name": "stdout"
        }
      ]
    },
    {
      "cell_type": "code",
      "metadata": {
        "id": "3R19eAyUM0hh",
        "colab_type": "code",
        "outputId": "cfcd9a53-36a0-4303-8886-3af8ad15c56d",
        "colab": {
          "base_uri": "https://localhost:8080/",
          "height": 71
        }
      },
      "source": [
        "print_root_with_params(*Optimizer.newton(10e-12, Task2.function, Task2.function_derivative, 0.1))\n",
        "\n",
        "%timeit Optimizer.newton(10e-12, Task2.function, Task2.function_derivative, 0.1)"
      ],
      "execution_count": 0,
      "outputs": [
        {
          "output_type": "stream",
          "text": [
            "Root: x = 0.1499775897238347 with params {'iter_num': 4, 'epsilon': 1e-11, 'guess': 0.1}\n",
            "10000 loops, best of 3: 20.9 µs per loop\n"
          ],
          "name": "stdout"
        }
      ]
    },
    {
      "cell_type": "code",
      "metadata": {
        "id": "Km4mZFyfM0hk",
        "colab_type": "code",
        "outputId": "7a12bd6d-7ece-496f-8992-46fe7f2512ff",
        "colab": {
          "base_uri": "https://localhost:8080/",
          "height": 71
        }
      },
      "source": [
        "print_root_with_params(*Optimizer.newton_simplified(10e-5, Task2.function, Task2.function_derivative, 1))\n",
        "\n",
        "%timeit Optimizer.newton_simplified(10e-5, Task2.function, Task2.function_derivative, 1)"
      ],
      "execution_count": 0,
      "outputs": [
        {
          "output_type": "stream",
          "text": [
            "Root: x = 1.182355013560296 with params {'iter_num': 13, 'epsilon': 0.0001, 'guess': 1}\n",
            "10000 loops, best of 3: 32.9 µs per loop\n"
          ],
          "name": "stdout"
        }
      ]
    },
    {
      "cell_type": "code",
      "metadata": {
        "id": "EnubGYwyM0hn",
        "colab_type": "code",
        "outputId": "942236c4-a245-4603-8f7a-73569788a6fb",
        "colab": {
          "base_uri": "https://localhost:8080/",
          "height": 88
        }
      },
      "source": [
        "print_root_with_params(*Optimizer.newton_simplified(10e-5, Task2.function, Task2.function_derivative, 0.1))\n",
        "\n",
        "%timeit Optimizer.newton_simplified(10e-5, Task2.function, Task2.function_derivative, 0.1)"
      ],
      "execution_count": 0,
      "outputs": [
        {
          "output_type": "stream",
          "text": [
            "Root: x = 0.14995031058889846 with params {'iter_num': 4, 'epsilon': 0.0001, 'guess': 0.1}\n",
            "The slowest run took 8.89 times longer than the fastest. This could mean that an intermediate result is being cached.\n",
            "100000 loops, best of 3: 13.8 µs per loop\n"
          ],
          "name": "stdout"
        }
      ]
    },
    {
      "cell_type": "code",
      "metadata": {
        "id": "eed_gLmTM0hq",
        "colab_type": "code",
        "outputId": "5b04aa22-b2e6-4d14-9e0d-a6614575626c",
        "colab": {
          "base_uri": "https://localhost:8080/",
          "height": 71
        }
      },
      "source": [
        "print_root_with_params(*Optimizer.newton_simplified(10e-12, Task2.function, Task2.function_derivative, 1))\n",
        "\n",
        "%timeit Optimizer.newton_simplified(10e-12, Task2.function, Task2.function_derivative, 1)"
      ],
      "execution_count": 0,
      "outputs": [
        {
          "output_type": "stream",
          "text": [
            "Root: x = 1.1823747443212327 with params {'iter_num': 39, 'epsilon': 1e-11, 'guess': 1}\n",
            "10000 loops, best of 3: 85.6 µs per loop\n"
          ],
          "name": "stdout"
        }
      ]
    },
    {
      "cell_type": "code",
      "metadata": {
        "id": "favlzCCWM0ht",
        "colab_type": "code",
        "outputId": "37f23997-1222-4e59-99e8-610745cbaad3",
        "colab": {
          "base_uri": "https://localhost:8080/",
          "height": 88
        }
      },
      "source": [
        "print_root_with_params(*Optimizer.newton_simplified(10e-12, Task2.function, Task2.function_derivative, 0.1))\n",
        "\n",
        "%timeit Optimizer.newton_simplified(10e-12, Task2.function, Task2.function_derivative, 0.1)"
      ],
      "execution_count": 0,
      "outputs": [
        {
          "output_type": "stream",
          "text": [
            "Root: x = 0.14997758972179892 with params {'iter_num': 16, 'epsilon': 1e-11, 'guess': 0.1}\n",
            "The slowest run took 12.92 times longer than the fastest. This could mean that an intermediate result is being cached.\n",
            "10000 loops, best of 3: 38.8 µs per loop\n"
          ],
          "name": "stdout"
        }
      ]
    },
    {
      "cell_type": "markdown",
      "metadata": {
        "id": "_Ul7GOQWeXpT",
        "colab_type": "text"
      },
      "source": [
        "We can observe that:\n",
        "  1. Methods with lower precision converge faster.\n",
        "  2. Simplified Newton's method take more steps to converge.\n",
        "  3. Simplified Newton's method generally works faster when precision is low"
      ]
    },
    {
      "cell_type": "markdown",
      "metadata": {
        "id": "gXOKK57Y8vhg",
        "colab_type": "text"
      },
      "source": [
        "$ x_1 \\approx 0.1500, x_2 \\approx 1.1824 $"
      ]
    },
    {
      "cell_type": "markdown",
      "metadata": {
        "id": "Otx8cdoTM0hx",
        "colab_type": "text"
      },
      "source": [
        "###  Task 3"
      ]
    },
    {
      "cell_type": "markdown",
      "metadata": {
        "id": "p6ab9P_Ffbmb",
        "colab_type": "text"
      },
      "source": [
        "#### First part\n",
        "1. Localize roots of equation $ f(x) = 3x^3 - 35x^2 + 125x - 125 = 0$\n",
        "2. Find roots with $ \\varepsilon = 10^{-7} $ using Newton's method.\n",
        "3. Find multiple root using modified Newton's method with nultiplicity in range $ m =1, 2, 3 $. Does it converge with all initial guesses?"
      ]
    },
    {
      "cell_type": "code",
      "metadata": {
        "id": "ueQpRnMAM0hx",
        "colab_type": "code",
        "colab": {}
      },
      "source": [
        "class Task3: \n",
        "    @staticmethod\n",
        "    def function(x):\n",
        "        return 3 * x ** 3 - 35 * x ** 2 + 125 * x - 125\n",
        "    \n",
        "    @staticmethod\n",
        "    def function_derivative(x):\n",
        "        return 9 * x ** 2 - 70 * x + 125\n",
        "    \n",
        "    @staticmethod\n",
        "    def function_wth_delta(x):\n",
        "        return Task3.function(x) + 10e-8\n"
      ],
      "execution_count": 0,
      "outputs": []
    },
    {
      "cell_type": "code",
      "metadata": {
        "id": "vxnRPsHXM0h0",
        "colab_type": "code",
        "outputId": "e676977d-b8c1-4cc5-c196-e0cb9e54fdbe",
        "colab": {
          "base_uri": "https://localhost:8080/",
          "height": 285
        }
      },
      "source": [
        "build_plot(Task3.function, (-100, 100))"
      ],
      "execution_count": 0,
      "outputs": [
        {
          "output_type": "display_data",
          "data": {
            "image/png": "[encoded data removed]",
            "text/plain": [
              "<Figure size 432x288 with 1 Axes>"
            ]
          },
          "metadata": {
            "tags": []
          }
        }
      ]
    },
    {
      "cell_type": "code",
      "metadata": {
        "id": "e3b8kfADM0h2",
        "colab_type": "code",
        "outputId": "0c3d0f1a-b52b-4546-f608-7c376fa780a9",
        "colab": {
          "base_uri": "https://localhost:8080/",
          "height": 285
        }
      },
      "source": [
        "build_plot(Task3.function, (-1, 10))"
      ],
      "execution_count": 0,
      "outputs": [
        {
          "output_type": "display_data",
          "data": {
            "image/png": "[encoded data removed]",
            "text/plain": [
              "<Figure size 432x288 with 1 Axes>"
            ]
          },
          "metadata": {
            "tags": []
          }
        }
      ]
    },
    {
      "cell_type": "markdown",
      "metadata": {
        "id": "CAf9gkgqhQWJ",
        "colab_type": "text"
      },
      "source": [
        "##### First root"
      ]
    },
    {
      "cell_type": "code",
      "metadata": {
        "id": "bpHoWjAhM0h6",
        "colab_type": "code",
        "outputId": "a6298bc4-aef5-402b-e97c-c384043606b1",
        "colab": {
          "base_uri": "https://localhost:8080/",
          "height": 54
        }
      },
      "source": [
        "loc_1 = Optimizer.bisection_localize(10e-2, Task3.function, 1, 3)\n",
        "\n",
        "print(loc_1)"
      ],
      "execution_count": 0,
      "outputs": [
        {
          "output_type": "stream",
          "text": [
            "(1.625, 1.6875)\n"
          ],
          "name": "stdout"
        }
      ]
    },
    {
      "cell_type": "code",
      "metadata": {
        "id": "GVKYAqlXM0h8",
        "colab_type": "code",
        "outputId": "c03b55bd-deca-4900-9949-6df8fef84ca1",
        "colab": {
          "base_uri": "https://localhost:8080/",
          "height": 54
        }
      },
      "source": [
        "print_root_with_params(*Optimizer.newton(10e-7, Task3.function, Task3.function_derivative, loc_1[0]))"
      ],
      "execution_count": 0,
      "outputs": [
        {
          "output_type": "stream",
          "text": [
            "Root: x = 1.6666666666664474 with params {'iter_num': 2, 'epsilon': 1e-06, 'guess': 1.625}\n"
          ],
          "name": "stdout"
        }
      ]
    },
    {
      "cell_type": "markdown",
      "metadata": {
        "id": "rkYty5b9hUEO",
        "colab_type": "text"
      },
      "source": [
        "##### Second root"
      ]
    },
    {
      "cell_type": "code",
      "metadata": {
        "id": "hQ9Q0Tl-M0h_",
        "colab_type": "code",
        "outputId": "87ded329-ba72-4a60-9810-17241de908b0",
        "colab": {
          "base_uri": "https://localhost:8080/",
          "height": 54
        }
      },
      "source": [
        "try:\n",
        "  Optimizer.bisection_localize(10e-7, Task3.function, 4.9, 6)\n",
        "except Exception as e:\n",
        "  print(e)"
      ],
      "execution_count": 0,
      "outputs": [
        {
          "output_type": "stream",
          "text": [
            "Borders must be different signs\n"
          ],
          "name": "stdout"
        }
      ]
    },
    {
      "cell_type": "code",
      "metadata": {
        "id": "iS7YbdUohr8l",
        "colab_type": "code",
        "outputId": "1628fe1a-4e7e-4b8d-b6d5-56acc23b7498",
        "colab": {
          "base_uri": "https://localhost:8080/",
          "height": 285
        }
      },
      "source": [
        "build_plot(Task3.function, (4, 6))"
      ],
      "execution_count": 0,
      "outputs": [
        {
          "output_type": "display_data",
          "data": {
            "image/png": "[encoded data removed]",
            "text/plain": [
              "<Figure size 432x288 with 1 Axes>"
            ]
          },
          "metadata": {
            "tags": []
          }
        }
      ]
    },
    {
      "cell_type": "markdown",
      "metadata": {
        "id": "GNLIvnVdj8lr",
        "colab_type": "text"
      },
      "source": [
        "Again, we can not use bisection method here but we can approximately localize the root from the plot"
      ]
    },
    {
      "cell_type": "code",
      "metadata": {
        "id": "Ily_sGoHM0iC",
        "colab_type": "code",
        "outputId": "063fd75d-f3b8-4061-b1d7-05bfa40155b6",
        "colab": {
          "base_uri": "https://localhost:8080/",
          "height": 54
        }
      },
      "source": [
        "print_root_with_params(*Optimizer.newton(10e-7, Task3.function, Task3.function_derivative, 4))"
      ],
      "execution_count": 0,
      "outputs": [
        {
          "output_type": "stream",
          "text": [
            "Root: x = 4.9999993827908185 with params {'iter_num': 19, 'epsilon': 1e-06, 'guess': 4}\n"
          ],
          "name": "stdout"
        }
      ]
    },
    {
      "cell_type": "markdown",
      "metadata": {
        "id": "BZ31JNfwkabK",
        "colab_type": "text"
      },
      "source": [
        "##### Using modofied Newton's method to find multiple roots"
      ]
    },
    {
      "cell_type": "code",
      "metadata": {
        "id": "oERo-6rMqIpU",
        "colab_type": "code",
        "outputId": "9ab586ea-0caf-4a3c-9202-b56a70864397",
        "colab": {
          "base_uri": "https://localhost:8080/",
          "height": 207
        }
      },
      "source": [
        "for guess in np.linspace(2, 4, 10):\n",
        "  roots = Optimizer.newton_multiple_roots(1e-10, 3, Task3.function, Task3.function_derivative, guess)\n",
        "  roots = list(map(lambda x: x if x is not None else None, roots))\n",
        "  print(\"For m = {} roots are {}:\".format(3, roots))"
      ],
      "execution_count": 0,
      "outputs": [
        {
          "output_type": "stream",
          "text": [
            "For m = 3 roots are [(1.6666666666666667, {'iter_num': 5, 'epsilon': 1e-10, 'guess': 2.0, 'm': 1}), None, (4.99999997528018, {'iter_num': 29, 'epsilon': 1e-10, 'guess': 2.0, 'm': 3})]:\n",
            "For m = 3 roots are [(1.6666666666666667, {'iter_num': 5, 'epsilon': 1e-10, 'guess': 2.2222222222222223, 'm': 1}), None, (5.000000043570666, {'iter_num': 35, 'epsilon': 1e-10, 'guess': 2.2222222222222223, 'm': 3})]:\n",
            "For m = 3 roots are [(1.6666666666666667, {'iter_num': 6, 'epsilon': 1e-10, 'guess': 2.4444444444444446, 'm': 1}), None, (4.999999924877995, {'iter_num': 39, 'epsilon': 1e-10, 'guess': 2.4444444444444446, 'm': 3})]:\n",
            "For m = 3 roots are [(1.6666666666666667, {'iter_num': 9, 'epsilon': 1e-10, 'guess': 2.6666666666666665, 'm': 1}), None, (5.000000063437742, {'iter_num': 27, 'epsilon': 1e-10, 'guess': 2.6666666666666665, 'm': 3})]:\n",
            "For m = 3 roots are [(5.000000095310989, {'iter_num': 28, 'epsilon': 1e-10, 'guess': 2.888888888888889, 'm': 1}), (4.999999944568014, {'iter_num': 7, 'epsilon': 1e-10, 'guess': 2.888888888888889, 'm': 2}), (4.999999951277051, {'iter_num': 35, 'epsilon': 1e-10, 'guess': 2.888888888888889, 'm': 3})]:\n",
            "For m = 3 roots are [(5.000000010132414, {'iter_num': 29, 'epsilon': 1e-10, 'guess': 3.111111111111111, 'm': 1}), (5.000000045177523, {'iter_num': 7, 'epsilon': 1e-10, 'guess': 3.111111111111111, 'm': 2}), (5.000000026011618, {'iter_num': 28, 'epsilon': 1e-10, 'guess': 3.111111111111111, 'm': 3})]:\n",
            "For m = 3 roots are [(5.00000004289977, {'iter_num': 25, 'epsilon': 1e-10, 'guess': 3.333333333333333, 'm': 1}), (5.000000000180241, {'iter_num': 5, 'epsilon': 1e-10, 'guess': 3.333333333333333, 'm': 2}), (5.00000008479465, {'iter_num': 42, 'epsilon': 1e-10, 'guess': 3.333333333333333, 'm': 3})]:\n",
            "For m = 3 roots are [(4.9999999117587, {'iter_num': 23, 'epsilon': 1e-10, 'guess': 3.5555555555555554, 'm': 1}), (4.999999988115549, {'iter_num': 9, 'epsilon': 1e-10, 'guess': 3.5555555555555554, 'm': 2}), (4.999999917868163, {'iter_num': 26, 'epsilon': 1e-10, 'guess': 3.5555555555555554, 'm': 3})]:\n",
            "For m = 3 roots are [(4.999999975654828, {'iter_num': 24, 'epsilon': 1e-10, 'guess': 3.7777777777777777, 'm': 1}), (5.000000002794513, {'iter_num': 4, 'epsilon': 1e-10, 'guess': 3.7777777777777777, 'm': 2}), (5.000000095779255, {'iter_num': 30, 'epsilon': 1e-10, 'guess': 3.7777777777777777, 'm': 3})]:\n",
            "For m = 3 roots are [(5.000000049443311, {'iter_num': 26, 'epsilon': 1e-10, 'guess': 4.0, 'm': 1}), (5.000000000913548, {'iter_num': 10, 'epsilon': 1e-10, 'guess': 4.0, 'm': 2}), (4.999999896098758, {'iter_num': 27, 'epsilon': 1e-10, 'guess': 4.0, 'm': 3})]:\n"
          ],
          "name": "stdout"
        }
      ]
    },
    {
      "cell_type": "markdown",
      "metadata": {
        "id": "RdCoQ8n0vGz1",
        "colab_type": "text"
      },
      "source": [
        "As we can  observe from iteratons' number:\n",
        "\n",
        "1. $ x_1 = 5 $ has multiplicity = $ 2 $ \n",
        "2. $ x = \\frac 5 3 $ has multiplicity = $1$.\n",
        "\n",
        "However method does not converge to both roots at the same time."
      ]
    },
    {
      "cell_type": "markdown",
      "metadata": {
        "id": "5g6h7dz9v-g2",
        "colab_type": "text"
      },
      "source": [
        "#### Second part\n",
        "\n",
        "1. Inversigate equation $ f(x) + \\delta = 0, where \\ \\delta = 10 ^ {-8}$\n",
        "2. Find root with multiplicity = 1.\n",
        "3. Try complex guess if does not converge in 2."
      ]
    },
    {
      "cell_type": "code",
      "metadata": {
        "id": "TeAokw624wy-",
        "colab_type": "code",
        "outputId": "98d1f155-3f41-4b67-8ec6-0af5becbbd84",
        "colab": {
          "base_uri": "https://localhost:8080/",
          "height": 68
        }
      },
      "source": [
        "Optimizer.newton_multiple_roots(1e-5, 3, Task3.function_wth_delta, Task3.function_derivative, 2)"
      ],
      "execution_count": 0,
      "outputs": [
        {
          "output_type": "execute_result",
          "data": {
            "text/plain": [
              "[(1.6666666636666667, {'epsilon': 1e-05, 'guess': 2, 'iter_num': 4, 'm': 1}),\n",
              " None,\n",
              " None]"
            ]
          },
          "metadata": {
            "tags": []
          },
          "execution_count": 34
        }
      ]
    },
    {
      "cell_type": "code",
      "metadata": {
        "id": "8ds54Vuw4q4_",
        "colab_type": "code",
        "outputId": "6bb39916-18ff-457e-be45-24d089473afd",
        "colab": {
          "base_uri": "https://localhost:8080/",
          "height": 34
        }
      },
      "source": [
        "Optimizer.newton_multiple_roots(1e-5, 3, Task3.function_wth_delta, Task3.function_derivative, 4.5)"
      ],
      "execution_count": 0,
      "outputs": [
        {
          "output_type": "execute_result",
          "data": {
            "text/plain": [
              "[None, None, None]"
            ]
          },
          "metadata": {
            "tags": []
          },
          "execution_count": 35
        }
      ]
    },
    {
      "cell_type": "markdown",
      "metadata": {
        "id": "zvPROAXC4_wl",
        "colab_type": "text"
      },
      "source": [
        "Method does not converge to second root. This happen because of function does not intersect $x$ axis at $x_2 = 5$ anymore."
      ]
    },
    {
      "cell_type": "markdown",
      "metadata": {
        "id": "3CmYw2ND5w_X",
        "colab_type": "text"
      },
      "source": [
        "We can still find complex roots though"
      ]
    },
    {
      "cell_type": "code",
      "metadata": {
        "id": "jeWWWoaB4XyO",
        "colab_type": "code",
        "outputId": "8e519951-30ec-4d85-e585-9fb03b2d40b9",
        "colab": {
          "base_uri": "https://localhost:8080/",
          "height": 85
        }
      },
      "source": [
        "Optimizer.newton_multiple_roots(1e-5, 3, Task3.function_wth_delta, Task3.function_derivative, 5 + 0.5j)"
      ],
      "execution_count": 0,
      "outputs": [
        {
          "output_type": "execute_result",
          "data": {
            "text/plain": [
              "[((4.99999972396839+0.00010020214063797883j),\n",
              "  {'epsilon': 1e-05, 'guess': (5+0.5j), 'iter_num': 13, 'm': 1}),\n",
              " None,\n",
              " None]"
            ]
          },
          "metadata": {
            "tags": []
          },
          "execution_count": 36
        }
      ]
    },
    {
      "cell_type": "code",
      "metadata": {
        "id": "lp7UZ-2k53Bj",
        "colab_type": "code",
        "outputId": "717ab883-f631-4d70-92a5-e18e1170f8f5",
        "colab": {
          "base_uri": "https://localhost:8080/",
          "height": 85
        }
      },
      "source": [
        "Optimizer.newton_multiple_roots(1e-5, 3, Task3.function_wth_delta, Task3.function_derivative, 5 - 0.5j)"
      ],
      "execution_count": 0,
      "outputs": [
        {
          "output_type": "execute_result",
          "data": {
            "text/plain": [
              "[((4.99999972396839-0.00010020214063797883j),\n",
              "  {'epsilon': 1e-05, 'guess': (5-0.5j), 'iter_num': 13, 'm': 1}),\n",
              " None,\n",
              " None]"
            ]
          },
          "metadata": {
            "tags": []
          },
          "execution_count": 37
        }
      ]
    },
    {
      "cell_type": "markdown",
      "metadata": {
        "id": "aZy3GB_G6EjO",
        "colab_type": "text"
      },
      "source": [
        "Now we found last complex conjugate roots.\n",
        "\n",
        "Final answer is: $ x_1 = \\frac 5 3, x_2 = 5 + \\theta i, x_3 =  5 - \\theta i, where \\ \\theta \\approx 10 ^ {-4}$"
      ]
    }
  ]
}